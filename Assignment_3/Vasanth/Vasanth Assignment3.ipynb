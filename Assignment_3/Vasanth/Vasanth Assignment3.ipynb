{
  "nbformat": 4,
  "nbformat_minor": 0,
  "metadata": {
    "colab": {
      "provenance": [],
      "collapsed_sections": []
    },
    "kernelspec": {
      "name": "python3",
      "display_name": "Python 3"
    },
    "language_info": {
      "name": "python"
    }
  },
  "cells": [
    {
      "cell_type": "markdown",
      "source": [
        "Assigment"
      ],
      "metadata": {
        "id": "CC2TW4zCm4a-"
      }
    },
    {
      "cell_type": "markdown",
      "source": [
        "What is 7 to the power of 4?\n"
      ],
      "metadata": {
        "id": "SHvLP_CduEOg"
      }
    },
    {
      "cell_type": "code",
      "execution_count": 1,
      "metadata": {
        "colab": {
          "base_uri": "https://localhost:8080/"
        },
        "id": "LRGj19iblDKU",
        "outputId": "8f2577d7-3858-4aed-8785-0afa69b6698c"
      },
      "outputs": [
        {
          "output_type": "stream",
          "name": "stdout",
          "text": [
            "2401\n"
          ]
        }
      ],
      "source": [
        "print(7**4)"
      ]
    },
    {
      "cell_type": "markdown",
      "source": [
        "Split this string: \n",
        "\n",
        "      s = \"Hi there Sam!\"\n",
        "\n",
        "  into a list"
      ],
      "metadata": {
        "id": "7-tPSqzIm3Wp"
      }
    },
    {
      "cell_type": "code",
      "source": [
        "s=\"hi there sam\"\n",
        "s1=s.split()\n",
        "print(s1)"
      ],
      "metadata": {
        "colab": {
          "base_uri": "https://localhost:8080/"
        },
        "id": "ekhrB3pPleDv",
        "outputId": "e685d75a-fb61-45b0-ac8c-8218266f88ff"
      },
      "execution_count": 2,
      "outputs": [
        {
          "output_type": "stream",
          "name": "stdout",
          "text": [
            "['hi', 'there', 'sam']\n"
          ]
        }
      ]
    },
    {
      "cell_type": "markdown",
      "source": [
        "Given the variables:\n",
        "      planet = \"Earth\"\n",
        "      diameter = 12742\n",
        "\n"
      ],
      "metadata": {
        "id": "_pthbv5nnK3Y"
      }
    },
    {
      "cell_type": "markdown",
      "source": [
        "Use .format() to print the following string:\n",
        "\n",
        "  The diameter of Earth is 12742 kilometers."
      ],
      "metadata": {
        "id": "AmTyzlLeoUSO"
      }
    },
    {
      "cell_type": "code",
      "source": [
        "txt=\"The diameter of {planet} is {diameter} kilometers.\"\n",
        "print(txt.format(diameter = 12742,planet=\"Earth\"))"
      ],
      "metadata": {
        "colab": {
          "base_uri": "https://localhost:8080/"
        },
        "id": "H0m_fQhdlnTh",
        "outputId": "ff957105-a8e5-43e2-c19b-55885b225d7b"
      },
      "execution_count": 3,
      "outputs": [
        {
          "output_type": "stream",
          "name": "stdout",
          "text": [
            "The diameter of Earth is 12742 kilometers.\n"
          ]
        }
      ]
    },
    {
      "cell_type": "markdown",
      "source": [
        "Given this nested list, use indexing to grab the word \"hello\""
      ],
      "metadata": {
        "id": "bhqJFfDinh2I"
      }
    },
    {
      "cell_type": "code",
      "source": [
        "lst = [1,2,[3,4],[5,[100,200,['hello']],23,11],1,7]"
      ],
      "metadata": {
        "id": "S4LgmC8Rl3zi"
      },
      "execution_count": 5,
      "outputs": []
    },
    {
      "cell_type": "code",
      "source": [
        "lst = [1,2,[3,4],[5,[100,200,['hello']],23,11],1,7]\n",
        "print(lst[3][1][2][0])"
      ],
      "metadata": {
        "colab": {
          "base_uri": "https://localhost:8080/"
        },
        "id": "c8KNtLMwmGh0",
        "outputId": "c0023377-a9b8-4f68-cd67-d0b2457c34e3"
      },
      "execution_count": 6,
      "outputs": [
        {
          "output_type": "stream",
          "name": "stdout",
          "text": [
            "hello\n"
          ]
        }
      ]
    },
    {
      "cell_type": "markdown",
      "source": [],
      "metadata": {
        "id": "6P6POaIrmkp6"
      }
    },
    {
      "cell_type": "markdown",
      "source": [
        "Given this nested dictionary grab the word \"hello\". Be prepared, this will be annoying/tricky"
      ],
      "metadata": {
        "id": "Opl2K-6SntQp"
      }
    },
    {
      "cell_type": "code",
      "source": [
        "d={'k1':[1,2,3,{'tricky':['oh','man','inception',{'target':[1,2,3,'hello']}]}]}"
      ],
      "metadata": {
        "id": "7y89L6YjmOPS"
      },
      "execution_count": 10,
      "outputs": []
    },
    {
      "cell_type": "markdown",
      "source": [],
      "metadata": {
        "id": "XELelDngmn_4"
      }
    },
    {
      "cell_type": "code",
      "source": [
        "d={'k1':[1,2,3,{'tricky':['oh','man','inception',{'target':[1,2,3,'hello']}]}]}\n",
        "print(d['k1'][3]['tricky'][3]['target'][3])"
      ],
      "metadata": {
        "colab": {
          "base_uri": "https://localhost:8080/"
        },
        "id": "o2svEe95mmsj",
        "outputId": "1717fa02-f052-49b0-f071-76e48102bd08"
      },
      "execution_count": 11,
      "outputs": [
        {
          "output_type": "stream",
          "name": "stdout",
          "text": [
            "hello\n"
          ]
        }
      ]
    },
    {
      "cell_type": "markdown",
      "source": [
        "What is the main differenec between a tuple and a list?"
      ],
      "metadata": {
        "id": "2xGRFxf8oD9j"
      }
    },
    {
      "cell_type": "markdown",
      "source": [
        "list is mutable, whereas tuple is immutable"
      ],
      "metadata": {
        "id": "E565gGZEoKx6"
      }
    },
    {
      "cell_type": "code",
      "source": [
        "list1=[1,2,3,4]\n",
        "list1[0]=10\n",
        "print(list1)"
      ],
      "metadata": {
        "colab": {
          "base_uri": "https://localhost:8080/"
        },
        "id": "K-J0Tx5zn70Y",
        "outputId": "669e1278-3c53-4e59-82f3-85f42a73495b"
      },
      "execution_count": 12,
      "outputs": [
        {
          "output_type": "stream",
          "name": "stdout",
          "text": [
            "[10, 2, 3, 4]\n"
          ]
        }
      ]
    },
    {
      "cell_type": "code",
      "source": [
        "tuple1=(1,2,3,4)\n",
        "try:\n",
        "  tuple1[0]=10\n",
        "except:\n",
        "  print('error')"
      ],
      "metadata": {
        "colab": {
          "base_uri": "https://localhost:8080/"
        },
        "id": "BCvNAi3doX0w",
        "outputId": "f62c181c-8a68-416e-b429-de99fc765cd9"
      },
      "execution_count": 13,
      "outputs": [
        {
          "output_type": "stream",
          "name": "stdout",
          "text": [
            "error\n"
          ]
        }
      ]
    },
    {
      "cell_type": "markdown",
      "source": [
        "Create a function that grabs the email website domain from a string in the form:"
      ],
      "metadata": {
        "id": "HYrzcHH_pDds"
      }
    },
    {
      "cell_type": "markdown",
      "source": [
        "user@domain.com"
      ],
      "metadata": {
        "id": "MVZTzW2KpNV-"
      }
    },
    {
      "cell_type": "markdown",
      "source": [
        "so for example, passing \"user@domain.com\" would return: domain.com"
      ],
      "metadata": {
        "id": "puD-6vp5pQBo"
      }
    },
    {
      "cell_type": "code",
      "source": [
        "def fun(anyname):\n",
        "  off = anyname.index('@')\n",
        "  return anyname[off+1:]\n",
        "fun('user@domain.com')"
      ],
      "metadata": {
        "colab": {
          "base_uri": "https://localhost:8080/",
          "height": 35
        },
        "id": "k7a_cQdJoi4x",
        "outputId": "a066746e-02de-44df-c833-67335a988e1a"
      },
      "execution_count": 14,
      "outputs": [
        {
          "output_type": "execute_result",
          "data": {
            "text/plain": [
              "'domain.com'"
            ],
            "application/vnd.google.colaboratory.intrinsic+json": {
              "type": "string"
            }
          },
          "metadata": {},
          "execution_count": 14
        }
      ]
    },
    {
      "cell_type": "code",
      "source": [
        "fun('vishnu@mydude.com')"
      ],
      "metadata": {
        "colab": {
          "base_uri": "https://localhost:8080/",
          "height": 35
        },
        "id": "juHKtjE_pZl7",
        "outputId": "bc745532-ea63-4318-b4bb-bad595bd3998"
      },
      "execution_count": 15,
      "outputs": [
        {
          "output_type": "execute_result",
          "data": {
            "text/plain": [
              "'mydude.com'"
            ],
            "application/vnd.google.colaboratory.intrinsic+json": {
              "type": "string"
            }
          },
          "metadata": {},
          "execution_count": 15
        }
      ]
    },
    {
      "cell_type": "markdown",
      "source": [
        "Create a basic function that returns True if the word 'dog' is contained in the input string. Don't worry about edge cases like a punctuation being attached to the word dog, but do account for capitalization."
      ],
      "metadata": {
        "id": "5P6U64GZqFCy"
      }
    },
    {
      "cell_type": "code",
      "source": [
        "def fun1(anystring):\n",
        "  r=anystring.find('dog')\n",
        "  r1=anystring.find('Dog')\n",
        "  r2=anystring.find('DOG')\n",
        "  return True if not(r==-1)or not(r1==-1)or not(r2==-1) else false\n",
        "fun1(\"i saw a dog \")"
      ],
      "metadata": {
        "colab": {
          "base_uri": "https://localhost:8080/"
        },
        "id": "zB5k7Oj4piXu",
        "outputId": "c1f665c7-b52d-4b41-a577-931a1a20cf69"
      },
      "execution_count": 16,
      "outputs": [
        {
          "output_type": "execute_result",
          "data": {
            "text/plain": [
              "True"
            ]
          },
          "metadata": {},
          "execution_count": 16
        }
      ]
    },
    {
      "cell_type": "markdown",
      "source": [
        "Create a function that counts the number of times the word \"dog\" occurs in a string. Again ignore edge cases."
      ],
      "metadata": {
        "id": "PA3-5h3Vq2p3"
      }
    },
    {
      "cell_type": "code",
      "source": [
        "def fun1(anystring):\n",
        "  r=anystring.find('dog')\n",
        "  r1=anystring.find('Dog')\n",
        "  r2=anystring.find('DOG')\n",
        "\n",
        "  return r+r1+r2\n",
        "fun1(\"dog dog DOG Dog\")"
      ],
      "metadata": {
        "colab": {
          "base_uri": "https://localhost:8080/"
        },
        "id": "S95lIM92qg4H",
        "outputId": "21b3acda-1942-4665-e3fb-72b88ed6b336"
      },
      "execution_count": 17,
      "outputs": [
        {
          "output_type": "execute_result",
          "data": {
            "text/plain": [
              "20"
            ]
          },
          "metadata": {},
          "execution_count": 17
        }
      ]
    },
    {
      "cell_type": "code",
      "source": [
        "fun1(\"i found a dog, since dog is domestic animal \")"
      ],
      "metadata": {
        "colab": {
          "base_uri": "https://localhost:8080/"
        },
        "id": "wTJMAByBquxZ",
        "outputId": "578a696a-7f16-478b-a02f-4f61894bed24"
      },
      "execution_count": 18,
      "outputs": [
        {
          "output_type": "execute_result",
          "data": {
            "text/plain": [
              "8"
            ]
          },
          "metadata": {},
          "execution_count": 18
        }
      ]
    },
    {
      "cell_type": "markdown",
      "source": [
        "Problem\n"
      ],
      "metadata": {
        "id": "W-AR1yVurxI4"
      }
    },
    {
      "cell_type": "markdown",
      "source": [
        "You are driving a little too fast, and a police officer stops you. Write a function to return one of 3 possible results: \"No Ticket\",\"Small Ticket\",or\"Big Ticket\". If your speed is 60 or less,the result is \"No Ticket\". If speed is between 61 and 80 inclusive, the result is \"Small Ticket\". If speed is 81 or more, the result is \"Big Ticket\". Unless it is your birthday (encoded as a boolean value in the parameters of the function) -- on your birthday, your speed can be a5 higher in all cases."
      ],
      "metadata": {
        "id": "7PyL_UsyrzC_"
      }
    },
    {
      "cell_type": "code",
      "source": [
        "def caught_speeding(speed, is_birthday):\n",
        "\n",
        "  if is_birthday:\n",
        "    speeding = speed-5\n",
        "  else:\n",
        "    speeding = speed\n",
        "\n",
        "  if speeding > 80:\n",
        "    return 'Big Ticket'\n",
        "  elif speeding > 60:\n",
        "    return 'Small Ticket'\n",
        "  else:\n",
        "    return 'No Ticket'"
      ],
      "metadata": {
        "id": "4nDpQw0QrEAx"
      },
      "execution_count": 19,
      "outputs": []
    },
    {
      "cell_type": "code",
      "source": [
        "caught_speeding(85,False)"
      ],
      "metadata": {
        "colab": {
          "base_uri": "https://localhost:8080/",
          "height": 35
        },
        "id": "dW8cOuxrrljX",
        "outputId": "f56b2e10-be0a-4425-fbe4-f11c4a250087"
      },
      "execution_count": 20,
      "outputs": [
        {
          "output_type": "execute_result",
          "data": {
            "text/plain": [
              "'Big Ticket'"
            ],
            "application/vnd.google.colaboratory.intrinsic+json": {
              "type": "string"
            }
          },
          "metadata": {},
          "execution_count": 20
        }
      ]
    },
    {
      "cell_type": "code",
      "source": [
        "caught_speeding(65,False)"
      ],
      "metadata": {
        "colab": {
          "base_uri": "https://localhost:8080/",
          "height": 35
        },
        "id": "Nd5nxlturq3i",
        "outputId": "c8e18d78-fcae-4aca-9466-0de8eed022c7"
      },
      "execution_count": 21,
      "outputs": [
        {
          "output_type": "execute_result",
          "data": {
            "text/plain": [
              "'Small Ticket'"
            ],
            "application/vnd.google.colaboratory.intrinsic+json": {
              "type": "string"
            }
          },
          "metadata": {},
          "execution_count": 21
        }
      ]
    },
    {
      "cell_type": "markdown",
      "source": [
        "Create an employee list with basic salary values(atleast 5 values for 5 employees) and using a for loop retrieve each employee salary and calculate total salary expenditure."
      ],
      "metadata": {
        "id": "0SvP7zwhtkEJ"
      }
    },
    {
      "cell_type": "code",
      "source": [
        "employee=[1000,2000,3000,4000,5000]\n",
        "total_salary=0\n",
        "for i in employee:\n",
        "  total_salary=total_salary+i\n",
        "print(total_salary)"
      ],
      "metadata": {
        "colab": {
          "base_uri": "https://localhost:8080/"
        },
        "id": "FlLL_RQTtRGL",
        "outputId": "5a33baeb-04b6-4b14-fd52-683bcda977d6"
      },
      "execution_count": 22,
      "outputs": [
        {
          "output_type": "stream",
          "name": "stdout",
          "text": [
            "15000\n"
          ]
        }
      ]
    },
    {
      "cell_type": "markdown",
      "source": [
        "Create two dictionaries in Python:\n",
        "\n",
        "First one to contain fields as Empid, Empname, Basicpay\n",
        "\n",
        "Second dictionary to contain fields as DeptName, DeptId.\n",
        "\n",
        "Combine both dictionaries."
      ],
      "metadata": {
        "id": "hDjsBbpot9Px"
      }
    },
    {
      "cell_type": "code",
      "source": [
        "dict1 = {'Empid'   : [1, 2, 3, 4],\n",
        "             'Empname'   : ['ram', 'bala', 'raj', 'jack'],\n",
        "             'Basicpay' : [1000, 2000, 3000, 4000]\n",
        "             }\n",
        "dict2= {'DeptName' : ['IT','CSE','MECH','EEE'],\n",
        "        'DeptId' : [205,204,203,202]\n",
        "}\n",
        "dict3={**dict1,**dict2}\n",
        "print(dict3)"
      ],
      "metadata": {
        "colab": {
          "base_uri": "https://localhost:8080/"
        },
        "id": "NeNcEY6Vt6Kh",
        "outputId": "c0d357b4-8353-4a05-e3fe-ba78908e552d"
      },
      "execution_count": 23,
      "outputs": [
        {
          "output_type": "stream",
          "name": "stdout",
          "text": [
            "{'Empid': [1, 2, 3, 4], 'Empname': ['ram', 'bala', 'raj', 'jack'], 'Basicpay': [1000, 2000, 3000, 4000], 'DeptName': ['IT', 'CSE', 'MECH', 'EEE'], 'DeptId': [205, 204, 203, 202]}\n"
          ]
        }
      ]
    }
  ]
}